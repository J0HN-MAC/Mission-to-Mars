{
 "cells": [
  {
   "cell_type": "code",
   "execution_count": 1,
   "id": "03c5c27f",
   "metadata": {},
   "outputs": [],
   "source": [
    "from splinter import Browser\n",
    "from bs4 import BeautifulSoup as soup\n",
    "from webdriver_manager.chrome import ChromeDriverManager\n",
    "\n",
    "# Set up Splinter\n",
    "executable_path = {'executable_path': ChromeDriverManager().install()}\n",
    "browser = Browser('chrome', **executable_path, headless=False)\n",
    "\n",
    "url = 'https://redplanetscience.com/'\n",
    "browser.visit(url)\n",
    "html = browser.html\n",
    "html_soup = soup(html, 'html.parser')"
   ]
  },
  {
   "cell_type": "code",
   "execution_count": 4,
   "id": "b941a4bc",
   "metadata": {},
   "outputs": [
    {
     "data": {
      "text/plain": [
       "[{'title': \"Nine Finalists Chosen in NASA's Mars 2020 Rover Naming Contest\",\n",
       "  'preview': \"Nine finalists have been chosen in the essay contest for K-12 students across U.S. to name NASA's next Mars rover. Now you can help by voting for your favorite. \"},\n",
       " {'title': \"Deadline Closing for Names to Fly on NASA's Next Mars Rover\",\n",
       "  'preview': 'You have until Sept. 30 to send your names to Mars aboard the Mars 2020 rover. '},\n",
       " {'title': 'NASA Updates Mars 2020 Mission Environmental Review',\n",
       "  'preview': 'NASA and the Department of Energy have completed a more detailed risk analysis for the Mars 2020 rover launch from Florida.'},\n",
       " {'title': \"Alabama High School Student Names NASA's Mars Helicopter\",\n",
       "  'preview': \"Vaneeza Rupani's essay was chosen as the name for the small spacecraft, which will mark NASA's first attempt at powered flight on another planet.\"},\n",
       " {'title': 'The MarCO Mission Comes to an End',\n",
       "  'preview': 'The pair of briefcase-sized satellites made history when they sailed past Mars in 2019.'},\n",
       " {'title': \"Virginia Middle School Student Earns Honor of Naming NASA's Next Mars Rover\",\n",
       "  'preview': 'NASA chose a seventh-grader from Virginia as winner of the agency\\'s \"Name the Rover\" essay contest. Alexander Mather\\'s entry for \"Perseverance\" was voted tops among 28,000 entries. '},\n",
       " {'title': 'NASA Perseverance Mars Rover Scientists Train in the Nevada Desert',\n",
       "  'preview': \"Team members searched for signs of ancient microscopic life there, just as NASA's latest rover will on the Red Planet next year.\"},\n",
       " {'title': \"NASA Wins 4 Webbys, 4 People's Voice Awards\",\n",
       "  'preview': 'Winners include the JPL-managed \"Send Your Name to Mars\" campaign, NASA\\'s Global Climate Change website and Solar System Interactive.'},\n",
       " {'title': \"Celebrate Mars Reconnaissance Orbiter's Views From Above\",\n",
       "  'preview': 'Marking its 15th anniversary since launch, one of the oldest spacecraft at the Red Planet has provided glimpses of dust devils, avalanches, and more.'},\n",
       " {'title': \"5 Hidden Gems Are Riding Aboard NASA's Perseverance Rover\",\n",
       "  'preview': \"The symbols, mottos, and small objects added to the agency's newest Mars rover serve a variety of purposes, from functional to decorative.\"},\n",
       " {'title': 'Naming a NASA Mars Rover Can Change Your Life',\n",
       "  'preview': 'Want to name the robotic scientist NASA is sending to Mars in 2020? The student who named Curiosity — the rover currently exploring Mars — will tell you this is an opportunity worth taking.'},\n",
       " {'title': 'NASA Invites Public to Share Excitement of Mars 2020 Perseverance Rover Launch',\n",
       "  'preview': 'There are lots of ways to participate in the historic event, which is targeted for July 30.'},\n",
       " {'title': \"NASA's New Mars Rover Is Ready for Space Lasers\",\n",
       "  'preview': 'Perseverance is one of a few Mars spacecraft carrying laser retroreflectors. The devices could provide new science and safer Mars landings in the future.'},\n",
       " {'title': 'Join NASA for the Launch of the Mars 2020 Perseverance Rover',\n",
       "  'preview': 'No matter where you live, choose from a menu of activities to join NASA as we \"Countdown to Mars\" and launch the Perseverance rover to the Red Planet.'},\n",
       " {'title': \"NASA-JPL Names 'Rolling Stones Rock' on Mars\",\n",
       "  'preview': \"NASA's Mars InSight mission honored one of the biggest bands of all time at Pasadena concert.\"}]"
      ]
     },
     "execution_count": 4,
     "metadata": {},
     "output_type": "execute_result"
    }
   ],
   "source": [
    "#Initialize list\n",
    "article_info = []\n",
    "\n",
    "# Scrape titles and previews data\n",
    "titles = html_soup.find_all('div', class_='content_title')\n",
    "previews = html_soup.find_all('div', class_='article_teaser_body')\n",
    "\n",
    "# Extract text from scraped data into a list\n",
    "titles_list = [title.text for title in titles]\n",
    "previews_list = [preview.text for preview in previews]\n",
    "\n",
    "# populate info list of dicts with titles and previews lists\n",
    "for i in range(0, len(titles_list)):\n",
    "    info_dict = {\"title\": titles_list[i], \"preview\": previews_list[i]}\n",
    "    article_info.append(info_dict)\n",
    "\n",
    "# Preview populated list\n",
    "article_info"
   ]
  },
  {
   "cell_type": "code",
   "execution_count": 5,
   "id": "f9cc146d",
   "metadata": {},
   "outputs": [],
   "source": [
    "# Store scraped data as a JSON file\n",
    "import json\n",
    "with open('Article_Info.json', 'w') as final:\n",
    "    json.dump(article_info , final, indent=2)"
   ]
  },
  {
   "cell_type": "code",
   "execution_count": 6,
   "id": "c124ca76",
   "metadata": {},
   "outputs": [],
   "source": [
    "browser.quit()"
   ]
  },
  {
   "cell_type": "code",
   "execution_count": null,
   "id": "2eefa749",
   "metadata": {},
   "outputs": [],
   "source": []
  }
 ],
 "metadata": {
  "kernelspec": {
   "display_name": "Python 3 (ipykernel)",
   "language": "python",
   "name": "python3"
  },
  "language_info": {
   "codemirror_mode": {
    "name": "ipython",
    "version": 3
   },
   "file_extension": ".py",
   "mimetype": "text/x-python",
   "name": "python",
   "nbconvert_exporter": "python",
   "pygments_lexer": "ipython3",
   "version": "3.7.13"
  }
 },
 "nbformat": 4,
 "nbformat_minor": 5
}
